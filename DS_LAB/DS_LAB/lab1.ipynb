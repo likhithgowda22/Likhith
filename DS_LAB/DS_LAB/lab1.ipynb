{
 "cells": [
  {
   "cell_type": "code",
   "execution_count": 1,
   "id": "b6fd67de-2f44-4458-babb-7a044ef5d4f9",
   "metadata": {},
   "outputs": [],
   "source": [
    "import numpy as np\n",
    "import pandas as pd\n",
    "import matplotlib.pyplot as plt\n",
    "import seaborn as sb"
   ]
  },
  {
   "cell_type": "code",
   "execution_count": 2,
   "id": "3d97dff4-0fbe-49fd-ad45-25b23d4c99a8",
   "metadata": {},
   "outputs": [],
   "source": [
    "df=pd.read_csv('auto-mpg.csv')"
   ]
  },
  {
   "cell_type": "code",
   "execution_count": 3,
   "id": "eadddf1b-7e31-4e6e-ad18-dca877eff1b1",
   "metadata": {},
   "outputs": [
    {
     "data": {
      "text/html": [
       "<div>\n",
       "<style scoped>\n",
       "    .dataframe tbody tr th:only-of-type {\n",
       "        vertical-align: middle;\n",
       "    }\n",
       "\n",
       "    .dataframe tbody tr th {\n",
       "        vertical-align: top;\n",
       "    }\n",
       "\n",
       "    .dataframe thead th {\n",
       "        text-align: right;\n",
       "    }\n",
       "</style>\n",
       "<table border=\"1\" class=\"dataframe\">\n",
       "  <thead>\n",
       "    <tr style=\"text-align: right;\">\n",
       "      <th></th>\n",
       "      <th>mpg</th>\n",
       "      <th>cylinders</th>\n",
       "      <th>displacement</th>\n",
       "      <th>horsepower</th>\n",
       "      <th>weight</th>\n",
       "      <th>acceleration</th>\n",
       "      <th>model-year</th>\n",
       "    </tr>\n",
       "  </thead>\n",
       "  <tbody>\n",
       "    <tr>\n",
       "      <th>0</th>\n",
       "      <td>18.0</td>\n",
       "      <td>8</td>\n",
       "      <td>NaN</td>\n",
       "      <td>130.0</td>\n",
       "      <td>3504</td>\n",
       "      <td>12.0</td>\n",
       "      <td>70</td>\n",
       "    </tr>\n",
       "    <tr>\n",
       "      <th>1</th>\n",
       "      <td>15.0</td>\n",
       "      <td>8</td>\n",
       "      <td>350.0</td>\n",
       "      <td>165.0</td>\n",
       "      <td>3693</td>\n",
       "      <td>11.5</td>\n",
       "      <td>70</td>\n",
       "    </tr>\n",
       "    <tr>\n",
       "      <th>2</th>\n",
       "      <td>18.0</td>\n",
       "      <td>8</td>\n",
       "      <td>NaN</td>\n",
       "      <td>150.0</td>\n",
       "      <td>3436</td>\n",
       "      <td>11.0</td>\n",
       "      <td>70</td>\n",
       "    </tr>\n",
       "    <tr>\n",
       "      <th>3</th>\n",
       "      <td>16.0</td>\n",
       "      <td>8</td>\n",
       "      <td>304.0</td>\n",
       "      <td>150.0</td>\n",
       "      <td>3433</td>\n",
       "      <td>12.0</td>\n",
       "      <td>70</td>\n",
       "    </tr>\n",
       "    <tr>\n",
       "      <th>4</th>\n",
       "      <td>17.0</td>\n",
       "      <td>8</td>\n",
       "      <td>NaN</td>\n",
       "      <td>140.0</td>\n",
       "      <td>3449</td>\n",
       "      <td>10.5</td>\n",
       "      <td>70</td>\n",
       "    </tr>\n",
       "    <tr>\n",
       "      <th>...</th>\n",
       "      <td>...</td>\n",
       "      <td>...</td>\n",
       "      <td>...</td>\n",
       "      <td>...</td>\n",
       "      <td>...</td>\n",
       "      <td>...</td>\n",
       "      <td>...</td>\n",
       "    </tr>\n",
       "    <tr>\n",
       "      <th>393</th>\n",
       "      <td>27.0</td>\n",
       "      <td>4</td>\n",
       "      <td>140.0</td>\n",
       "      <td>86.0</td>\n",
       "      <td>2790</td>\n",
       "      <td>15.6</td>\n",
       "      <td>82</td>\n",
       "    </tr>\n",
       "    <tr>\n",
       "      <th>394</th>\n",
       "      <td>44.0</td>\n",
       "      <td>4</td>\n",
       "      <td>97.0</td>\n",
       "      <td>52.0</td>\n",
       "      <td>2130</td>\n",
       "      <td>24.6</td>\n",
       "      <td>82</td>\n",
       "    </tr>\n",
       "    <tr>\n",
       "      <th>395</th>\n",
       "      <td>32.0</td>\n",
       "      <td>4</td>\n",
       "      <td>135.0</td>\n",
       "      <td>84.0</td>\n",
       "      <td>2295</td>\n",
       "      <td>11.6</td>\n",
       "      <td>82</td>\n",
       "    </tr>\n",
       "    <tr>\n",
       "      <th>396</th>\n",
       "      <td>28.0</td>\n",
       "      <td>4</td>\n",
       "      <td>120.0</td>\n",
       "      <td>79.0</td>\n",
       "      <td>2625</td>\n",
       "      <td>18.6</td>\n",
       "      <td>82</td>\n",
       "    </tr>\n",
       "    <tr>\n",
       "      <th>397</th>\n",
       "      <td>31.0</td>\n",
       "      <td>4</td>\n",
       "      <td>119.0</td>\n",
       "      <td>82.0</td>\n",
       "      <td>2720</td>\n",
       "      <td>19.4</td>\n",
       "      <td>82</td>\n",
       "    </tr>\n",
       "  </tbody>\n",
       "</table>\n",
       "<p>398 rows × 7 columns</p>\n",
       "</div>"
      ],
      "text/plain": [
       "      mpg  cylinders  displacement  horsepower  weight  acceleration  \\\n",
       "0    18.0          8           NaN       130.0    3504          12.0   \n",
       "1    15.0          8         350.0       165.0    3693          11.5   \n",
       "2    18.0          8           NaN       150.0    3436          11.0   \n",
       "3    16.0          8         304.0       150.0    3433          12.0   \n",
       "4    17.0          8           NaN       140.0    3449          10.5   \n",
       "..    ...        ...           ...         ...     ...           ...   \n",
       "393  27.0          4         140.0        86.0    2790          15.6   \n",
       "394  44.0          4          97.0        52.0    2130          24.6   \n",
       "395  32.0          4         135.0        84.0    2295          11.6   \n",
       "396  28.0          4         120.0        79.0    2625          18.6   \n",
       "397  31.0          4         119.0        82.0    2720          19.4   \n",
       "\n",
       "     model-year  \n",
       "0            70  \n",
       "1            70  \n",
       "2            70  \n",
       "3            70  \n",
       "4            70  \n",
       "..          ...  \n",
       "393          82  \n",
       "394          82  \n",
       "395          82  \n",
       "396          82  \n",
       "397          82  \n",
       "\n",
       "[398 rows x 7 columns]"
      ]
     },
     "execution_count": 3,
     "metadata": {},
     "output_type": "execute_result"
    }
   ],
   "source": [
    "df"
   ]
  },
  {
   "cell_type": "code",
   "execution_count": 4,
   "id": "06d93f4a-926d-44d5-8cd7-5f0442f2e5d7",
   "metadata": {},
   "outputs": [
    {
     "data": {
      "text/plain": [
       "(398, 7)"
      ]
     },
     "execution_count": 4,
     "metadata": {},
     "output_type": "execute_result"
    }
   ],
   "source": [
    "df.shape"
   ]
  },
  {
   "cell_type": "code",
   "execution_count": 5,
   "id": "da052454-1139-47ae-880b-6eb7278ebba2",
   "metadata": {},
   "outputs": [
    {
     "name": "stdout",
     "output_type": "stream",
     "text": [
      "<class 'pandas.core.frame.DataFrame'>\n",
      "RangeIndex: 398 entries, 0 to 397\n",
      "Data columns (total 7 columns):\n",
      " #   Column        Non-Null Count  Dtype  \n",
      "---  ------        --------------  -----  \n",
      " 0   mpg           398 non-null    float64\n",
      " 1   cylinders     398 non-null    int64  \n",
      " 2   displacement  395 non-null    float64\n",
      " 3   horsepower    396 non-null    float64\n",
      " 4   weight        398 non-null    int64  \n",
      " 5   acceleration  398 non-null    float64\n",
      " 6   model-year    398 non-null    int64  \n",
      "dtypes: float64(4), int64(3)\n",
      "memory usage: 21.9 KB\n"
     ]
    }
   ],
   "source": [
    "df.info()"
   ]
  },
  {
   "cell_type": "code",
   "execution_count": 6,
   "id": "f43af634-f02f-49c3-a623-22b1246b2f7e",
   "metadata": {},
   "outputs": [
    {
     "data": {
      "text/html": [
       "<div>\n",
       "<style scoped>\n",
       "    .dataframe tbody tr th:only-of-type {\n",
       "        vertical-align: middle;\n",
       "    }\n",
       "\n",
       "    .dataframe tbody tr th {\n",
       "        vertical-align: top;\n",
       "    }\n",
       "\n",
       "    .dataframe thead th {\n",
       "        text-align: right;\n",
       "    }\n",
       "</style>\n",
       "<table border=\"1\" class=\"dataframe\">\n",
       "  <thead>\n",
       "    <tr style=\"text-align: right;\">\n",
       "      <th></th>\n",
       "      <th>mpg</th>\n",
       "      <th>cylinders</th>\n",
       "      <th>displacement</th>\n",
       "      <th>horsepower</th>\n",
       "      <th>weight</th>\n",
       "      <th>acceleration</th>\n",
       "      <th>model-year</th>\n",
       "    </tr>\n",
       "  </thead>\n",
       "  <tbody>\n",
       "    <tr>\n",
       "      <th>count</th>\n",
       "      <td>398.000000</td>\n",
       "      <td>398.000000</td>\n",
       "      <td>395.000000</td>\n",
       "      <td>396.000000</td>\n",
       "      <td>398.000000</td>\n",
       "      <td>398.000000</td>\n",
       "      <td>398.000000</td>\n",
       "    </tr>\n",
       "    <tr>\n",
       "      <th>mean</th>\n",
       "      <td>23.514573</td>\n",
       "      <td>5.454774</td>\n",
       "      <td>192.548101</td>\n",
       "      <td>104.189394</td>\n",
       "      <td>2970.424623</td>\n",
       "      <td>15.568090</td>\n",
       "      <td>76.010050</td>\n",
       "    </tr>\n",
       "    <tr>\n",
       "      <th>std</th>\n",
       "      <td>7.815984</td>\n",
       "      <td>1.701004</td>\n",
       "      <td>104.173720</td>\n",
       "      <td>38.402030</td>\n",
       "      <td>846.841774</td>\n",
       "      <td>2.757689</td>\n",
       "      <td>3.697627</td>\n",
       "    </tr>\n",
       "    <tr>\n",
       "      <th>min</th>\n",
       "      <td>9.000000</td>\n",
       "      <td>3.000000</td>\n",
       "      <td>68.000000</td>\n",
       "      <td>46.000000</td>\n",
       "      <td>1613.000000</td>\n",
       "      <td>8.000000</td>\n",
       "      <td>70.000000</td>\n",
       "    </tr>\n",
       "    <tr>\n",
       "      <th>25%</th>\n",
       "      <td>17.500000</td>\n",
       "      <td>4.000000</td>\n",
       "      <td>102.500000</td>\n",
       "      <td>75.000000</td>\n",
       "      <td>2223.750000</td>\n",
       "      <td>13.825000</td>\n",
       "      <td>73.000000</td>\n",
       "    </tr>\n",
       "    <tr>\n",
       "      <th>50%</th>\n",
       "      <td>23.000000</td>\n",
       "      <td>4.000000</td>\n",
       "      <td>146.000000</td>\n",
       "      <td>92.000000</td>\n",
       "      <td>2803.500000</td>\n",
       "      <td>15.500000</td>\n",
       "      <td>76.000000</td>\n",
       "    </tr>\n",
       "    <tr>\n",
       "      <th>75%</th>\n",
       "      <td>29.000000</td>\n",
       "      <td>8.000000</td>\n",
       "      <td>260.000000</td>\n",
       "      <td>125.000000</td>\n",
       "      <td>3608.000000</td>\n",
       "      <td>17.175000</td>\n",
       "      <td>79.000000</td>\n",
       "    </tr>\n",
       "    <tr>\n",
       "      <th>max</th>\n",
       "      <td>46.600000</td>\n",
       "      <td>8.000000</td>\n",
       "      <td>455.000000</td>\n",
       "      <td>230.000000</td>\n",
       "      <td>5140.000000</td>\n",
       "      <td>24.800000</td>\n",
       "      <td>82.000000</td>\n",
       "    </tr>\n",
       "  </tbody>\n",
       "</table>\n",
       "</div>"
      ],
      "text/plain": [
       "              mpg   cylinders  displacement  horsepower       weight  \\\n",
       "count  398.000000  398.000000    395.000000  396.000000   398.000000   \n",
       "mean    23.514573    5.454774    192.548101  104.189394  2970.424623   \n",
       "std      7.815984    1.701004    104.173720   38.402030   846.841774   \n",
       "min      9.000000    3.000000     68.000000   46.000000  1613.000000   \n",
       "25%     17.500000    4.000000    102.500000   75.000000  2223.750000   \n",
       "50%     23.000000    4.000000    146.000000   92.000000  2803.500000   \n",
       "75%     29.000000    8.000000    260.000000  125.000000  3608.000000   \n",
       "max     46.600000    8.000000    455.000000  230.000000  5140.000000   \n",
       "\n",
       "       acceleration  model-year  \n",
       "count    398.000000  398.000000  \n",
       "mean      15.568090   76.010050  \n",
       "std        2.757689    3.697627  \n",
       "min        8.000000   70.000000  \n",
       "25%       13.825000   73.000000  \n",
       "50%       15.500000   76.000000  \n",
       "75%       17.175000   79.000000  \n",
       "max       24.800000   82.000000  "
      ]
     },
     "execution_count": 6,
     "metadata": {},
     "output_type": "execute_result"
    }
   ],
   "source": [
    "df.describe()"
   ]
  },
  {
   "cell_type": "code",
   "execution_count": 7,
   "id": "958fada9-6c64-4b19-b86e-364bdf28e779",
   "metadata": {},
   "outputs": [
    {
     "data": {
      "text/plain": [
       "192.5481012658228"
      ]
     },
     "execution_count": 7,
     "metadata": {},
     "output_type": "execute_result"
    }
   ],
   "source": [
    "df['displacement'].mean()"
   ]
  },
  {
   "cell_type": "code",
   "execution_count": 8,
   "id": "1a64f1b3-8562-4598-814f-339371dfe055",
   "metadata": {},
   "outputs": [
    {
     "data": {
      "text/plain": [
       "3"
      ]
     },
     "execution_count": 8,
     "metadata": {},
     "output_type": "execute_result"
    }
   ],
   "source": [
    "df['displacement'].isna().sum()"
   ]
  },
  {
   "cell_type": "code",
   "execution_count": 9,
   "id": "542a5800-7b10-4732-80d9-b1a25b5d5307",
   "metadata": {},
   "outputs": [],
   "source": [
    "df['displacement'].fillna(df['displacement'].mean(),inplace=True)"
   ]
  },
  {
   "cell_type": "code",
   "execution_count": 10,
   "id": "342513c9-0a9f-4049-a943-02e993963f2a",
   "metadata": {},
   "outputs": [
    {
     "data": {
      "text/html": [
       "<div>\n",
       "<style scoped>\n",
       "    .dataframe tbody tr th:only-of-type {\n",
       "        vertical-align: middle;\n",
       "    }\n",
       "\n",
       "    .dataframe tbody tr th {\n",
       "        vertical-align: top;\n",
       "    }\n",
       "\n",
       "    .dataframe thead th {\n",
       "        text-align: right;\n",
       "    }\n",
       "</style>\n",
       "<table border=\"1\" class=\"dataframe\">\n",
       "  <thead>\n",
       "    <tr style=\"text-align: right;\">\n",
       "      <th></th>\n",
       "      <th>mpg</th>\n",
       "      <th>cylinders</th>\n",
       "      <th>displacement</th>\n",
       "      <th>horsepower</th>\n",
       "      <th>weight</th>\n",
       "      <th>acceleration</th>\n",
       "      <th>model-year</th>\n",
       "    </tr>\n",
       "  </thead>\n",
       "  <tbody>\n",
       "    <tr>\n",
       "      <th>0</th>\n",
       "      <td>18.0</td>\n",
       "      <td>8</td>\n",
       "      <td>192.548101</td>\n",
       "      <td>130.0</td>\n",
       "      <td>3504</td>\n",
       "      <td>12.0</td>\n",
       "      <td>70</td>\n",
       "    </tr>\n",
       "    <tr>\n",
       "      <th>1</th>\n",
       "      <td>15.0</td>\n",
       "      <td>8</td>\n",
       "      <td>350.000000</td>\n",
       "      <td>165.0</td>\n",
       "      <td>3693</td>\n",
       "      <td>11.5</td>\n",
       "      <td>70</td>\n",
       "    </tr>\n",
       "    <tr>\n",
       "      <th>2</th>\n",
       "      <td>18.0</td>\n",
       "      <td>8</td>\n",
       "      <td>192.548101</td>\n",
       "      <td>150.0</td>\n",
       "      <td>3436</td>\n",
       "      <td>11.0</td>\n",
       "      <td>70</td>\n",
       "    </tr>\n",
       "    <tr>\n",
       "      <th>3</th>\n",
       "      <td>16.0</td>\n",
       "      <td>8</td>\n",
       "      <td>304.000000</td>\n",
       "      <td>150.0</td>\n",
       "      <td>3433</td>\n",
       "      <td>12.0</td>\n",
       "      <td>70</td>\n",
       "    </tr>\n",
       "    <tr>\n",
       "      <th>4</th>\n",
       "      <td>17.0</td>\n",
       "      <td>8</td>\n",
       "      <td>192.548101</td>\n",
       "      <td>140.0</td>\n",
       "      <td>3449</td>\n",
       "      <td>10.5</td>\n",
       "      <td>70</td>\n",
       "    </tr>\n",
       "    <tr>\n",
       "      <th>...</th>\n",
       "      <td>...</td>\n",
       "      <td>...</td>\n",
       "      <td>...</td>\n",
       "      <td>...</td>\n",
       "      <td>...</td>\n",
       "      <td>...</td>\n",
       "      <td>...</td>\n",
       "    </tr>\n",
       "    <tr>\n",
       "      <th>393</th>\n",
       "      <td>27.0</td>\n",
       "      <td>4</td>\n",
       "      <td>140.000000</td>\n",
       "      <td>86.0</td>\n",
       "      <td>2790</td>\n",
       "      <td>15.6</td>\n",
       "      <td>82</td>\n",
       "    </tr>\n",
       "    <tr>\n",
       "      <th>394</th>\n",
       "      <td>44.0</td>\n",
       "      <td>4</td>\n",
       "      <td>97.000000</td>\n",
       "      <td>52.0</td>\n",
       "      <td>2130</td>\n",
       "      <td>24.6</td>\n",
       "      <td>82</td>\n",
       "    </tr>\n",
       "    <tr>\n",
       "      <th>395</th>\n",
       "      <td>32.0</td>\n",
       "      <td>4</td>\n",
       "      <td>135.000000</td>\n",
       "      <td>84.0</td>\n",
       "      <td>2295</td>\n",
       "      <td>11.6</td>\n",
       "      <td>82</td>\n",
       "    </tr>\n",
       "    <tr>\n",
       "      <th>396</th>\n",
       "      <td>28.0</td>\n",
       "      <td>4</td>\n",
       "      <td>120.000000</td>\n",
       "      <td>79.0</td>\n",
       "      <td>2625</td>\n",
       "      <td>18.6</td>\n",
       "      <td>82</td>\n",
       "    </tr>\n",
       "    <tr>\n",
       "      <th>397</th>\n",
       "      <td>31.0</td>\n",
       "      <td>4</td>\n",
       "      <td>119.000000</td>\n",
       "      <td>82.0</td>\n",
       "      <td>2720</td>\n",
       "      <td>19.4</td>\n",
       "      <td>82</td>\n",
       "    </tr>\n",
       "  </tbody>\n",
       "</table>\n",
       "<p>398 rows × 7 columns</p>\n",
       "</div>"
      ],
      "text/plain": [
       "      mpg  cylinders  displacement  horsepower  weight  acceleration  \\\n",
       "0    18.0          8    192.548101       130.0    3504          12.0   \n",
       "1    15.0          8    350.000000       165.0    3693          11.5   \n",
       "2    18.0          8    192.548101       150.0    3436          11.0   \n",
       "3    16.0          8    304.000000       150.0    3433          12.0   \n",
       "4    17.0          8    192.548101       140.0    3449          10.5   \n",
       "..    ...        ...           ...         ...     ...           ...   \n",
       "393  27.0          4    140.000000        86.0    2790          15.6   \n",
       "394  44.0          4     97.000000        52.0    2130          24.6   \n",
       "395  32.0          4    135.000000        84.0    2295          11.6   \n",
       "396  28.0          4    120.000000        79.0    2625          18.6   \n",
       "397  31.0          4    119.000000        82.0    2720          19.4   \n",
       "\n",
       "     model-year  \n",
       "0            70  \n",
       "1            70  \n",
       "2            70  \n",
       "3            70  \n",
       "4            70  \n",
       "..          ...  \n",
       "393          82  \n",
       "394          82  \n",
       "395          82  \n",
       "396          82  \n",
       "397          82  \n",
       "\n",
       "[398 rows x 7 columns]"
      ]
     },
     "execution_count": 10,
     "metadata": {},
     "output_type": "execute_result"
    }
   ],
   "source": [
    "df"
   ]
  },
  {
   "cell_type": "code",
   "execution_count": 11,
   "id": "495a1c5f-7513-4f39-b3ea-7bd8faed28d5",
   "metadata": {},
   "outputs": [
    {
     "data": {
      "text/plain": [
       "0"
      ]
     },
     "execution_count": 11,
     "metadata": {},
     "output_type": "execute_result"
    }
   ],
   "source": [
    "df['displacement'].isna().sum()"
   ]
  },
  {
   "cell_type": "code",
   "execution_count": 12,
   "id": "da330b17-7aa8-456b-a9ea-24bc68d8d6c8",
   "metadata": {},
   "outputs": [
    {
     "data": {
      "text/plain": [
       "(array([ 6., 15., 50., 86., 92., 80., 45., 13.,  7.,  4.]),\n",
       " array([ 8.  ,  9.68, 11.36, 13.04, 14.72, 16.4 , 18.08, 19.76, 21.44,\n",
       "        23.12, 24.8 ]),\n",
       " <BarContainer object of 10 artists>)"
      ]
     },
     "execution_count": 12,
     "metadata": {},
     "output_type": "execute_result"
    },
    {
     "data": {
      "image/png": "[encoded data removed]",
      "text/plain": [
       "<Figure size 640x480 with 1 Axes>"
      ]
     },
     "metadata": {},
     "output_type": "display_data"
    }
   ],
   "source": [
    "plt.hist(df['acceleration'],color=\"red\")"
   ]
  },
  {
   "cell_type": "code",
   "execution_count": 13,
   "id": "6daa3197-779d-4987-aabf-cbbc33b18dad",
   "metadata": {},
   "outputs": [
    {
     "data": {
      "text/plain": [
       "(array([ 5., 26., 45., 45., 25., 34., 24., 30., 17., 20., 23., 17., 17.,\n",
       "        12., 17., 17.,  8., 10.,  4.,  2.]),\n",
       " array([1613.  , 1789.35, 1965.7 , 2142.05, 2318.4 , 2494.75, 2671.1 ,\n",
       "        2847.45, 3023.8 , 3200.15, 3376.5 , 3552.85, 3729.2 , 3905.55,\n",
       "        4081.9 , 4258.25, 4434.6 , 4610.95, 4787.3 , 4963.65, 5140.  ]),\n",
       " <BarContainer object of 20 artists>)"
      ]
     },
     "execution_count": 13,
     "metadata": {},
     "output_type": "execute_result"
    },
    {
     "data": {
      "image/png": "[encoded data removed]",
      "text/plain": [
       "<Figure size 640x480 with 1 Axes>"
      ]
     },
     "metadata": {},
     "output_type": "display_data"
    }
   ],
   "source": [
    "plt.hist(df['weight'],color=\"red\",bins=20)"
   ]
  },
  {
   "cell_type": "code",
   "execution_count": 14,
   "id": "d5bc0345-7ec1-4635-b2e6-2cf40d809b3b",
   "metadata": {},
   "outputs": [
    {
     "data": {
      "image/png": "[encoded data removed]",
      "text/plain": [
       "<Figure size 640x480 with 2 Axes>"
      ]
     },
     "metadata": {},
     "output_type": "display_data"
    }
   ],
   "source": [
    "con=['weight','acceleration']\n",
    "df[con].hist(bins=25)\n",
    "plt.show()"
   ]
  },
  {
   "cell_type": "code",
   "execution_count": 15,
   "id": "5ea11156-9b5b-456c-bc2d-d1ae2b803441",
   "metadata": {},
   "outputs": [
    {
     "data": {
      "text/plain": [
       "(array([[  0.,   0.,   0.,   0.,   0.,   0.,   0.,   2.,  15.,  37.,  58.,\n",
       "          31.,  38.,  28.,  31.,  25.,  24.,  20.,  20.,  15.,  18.,  20.,\n",
       "           7.,   4.,   5.],\n",
       "        [398.,   0.,   0.,   0.,   0.,   0.,   0.,   0.,   0.,   0.,   0.,\n",
       "           0.,   0.,   0.,   0.,   0.,   0.,   0.,   0.,   0.,   0.,   0.,\n",
       "           0.,   0.,   0.]]),\n",
       " array([   8.  ,  213.28,  418.56,  623.84,  829.12, 1034.4 , 1239.68,\n",
       "        1444.96, 1650.24, 1855.52, 2060.8 , 2266.08, 2471.36, 2676.64,\n",
       "        2881.92, 3087.2 , 3292.48, 3497.76, 3703.04, 3908.32, 4113.6 ,\n",
       "        4318.88, 4524.16, 4729.44, 4934.72, 5140.  ]),\n",
       " <a list of 2 BarContainer objects>)"
      ]
     },
     "execution_count": 15,
     "metadata": {},
     "output_type": "execute_result"
    },
    {
     "data": {
      "image/png": "[encoded data removed]",
      "text/plain": [
       "<Figure size 640x480 with 1 Axes>"
      ]
     },
     "metadata": {},
     "output_type": "display_data"
    }
   ],
   "source": [
    "plt.hist(df[con],bins=25)"
   ]
  },
  {
   "cell_type": "code",
   "execution_count": 16,
   "id": "a68b59ba-9114-4143-861e-7709b49e8e91",
   "metadata": {},
   "outputs": [
    {
     "data": {
      "text/plain": [
       "<Axes: >"
      ]
     },
     "execution_count": 16,
     "metadata": {},
     "output_type": "execute_result"
    },
    {
     "data": {
      "image/png": "[encoded data removed]",
      "text/plain": [
       "<Figure size 640x480 with 1 Axes>"
      ]
     },
     "metadata": {},
     "output_type": "display_data"
    }
   ],
   "source": [
    "sb.violinplot(df['displacement'])"
   ]
  },
  {
   "cell_type": "code",
   "execution_count": 17,
   "id": "b1568144-515c-4212-b943-000b7aa7db79",
   "metadata": {},
   "outputs": [
    {
     "data": {
      "text/plain": [
       "<Axes: >"
      ]
     },
     "execution_count": 17,
     "metadata": {},
     "output_type": "execute_result"
    },
    {
     "data": {
      "image/png": "[encoded data removed]",
      "text/plain": [
       "<Figure size 640x480 with 1 Axes>"
      ]
     },
     "metadata": {},
     "output_type": "display_data"
    }
   ],
   "source": [
    "sb.boxplot(df['acceleration'])"
   ]
  },
  {
   "cell_type": "code",
   "execution_count": 18,
   "id": "bd251cbe-9469-4970-aa66-7297e9dc4814",
   "metadata": {},
   "outputs": [],
   "source": [
    "Q1, Q3 = np.percentile(df['acceleration'],[25,75])"
   ]
  },
  {
   "cell_type": "code",
   "execution_count": 19,
   "id": "e4df26f7-2a12-4064-9896-e3f486a82c2c",
   "metadata": {},
   "outputs": [],
   "source": [
    "IQR = Q3 -Q1"
   ]
  },
  {
   "cell_type": "code",
   "execution_count": 20,
   "id": "445acc09-8ddf-429e-8228-11633ae0dde1",
   "metadata": {},
   "outputs": [],
   "source": [
    "LQ = Q1-1.5*IQR"
   ]
  },
  {
   "cell_type": "code",
   "execution_count": 21,
   "id": "3901cd84-bfd4-4b55-9991-80664a76d1c1",
   "metadata": {},
   "outputs": [],
   "source": [
    "UQ=Q3+1.5*IQR"
   ]
  },
  {
   "cell_type": "code",
   "execution_count": 22,
   "id": "b43022b4-2bd6-4dae-9b74-e2104adcdeb9",
   "metadata": {},
   "outputs": [],
   "source": [
    "outliers=np.where(df['acceleration']<LQ,True , np.where(df['acceleration']>UQ, True, False))"
   ]
  },
  {
   "cell_type": "code",
   "execution_count": 23,
   "id": "5ca928bf-b2fe-4bb6-9dd5-b6205a78aa49",
   "metadata": {},
   "outputs": [
    {
     "data": {
      "text/plain": [
       "array([False, False, False, False, False, False, False,  True, False,\n",
       "        True, False,  True, False, False, False, False, False, False,\n",
       "       False, False, False, False, False, False, False, False, False,\n",
       "       False, False, False, False, False, False, False, False, False,\n",
       "       False, False, False, False, False, False, False, False, False,\n",
       "       False, False, False, False, False, False, False, False, False,\n",
       "       False, False, False, False, False,  True, False, False, False,\n",
       "       False, False, False, False, False, False, False, False, False,\n",
       "       False, False, False, False, False, False, False, False, False,\n",
       "       False, False, False, False, False, False, False, False, False,\n",
       "       False, False, False, False, False, False, False, False, False,\n",
       "       False, False, False, False, False, False, False, False, False,\n",
       "       False, False, False, False, False, False, False, False, False,\n",
       "       False, False, False, False, False, False, False, False, False,\n",
       "       False, False, False, False, False, False, False, False, False,\n",
       "       False, False, False, False, False, False, False, False, False,\n",
       "       False, False, False, False, False, False, False, False, False,\n",
       "       False, False, False, False, False, False, False, False, False,\n",
       "       False, False, False, False, False, False, False, False, False,\n",
       "       False, False, False, False, False, False, False, False, False,\n",
       "       False, False, False, False, False, False, False, False, False,\n",
       "       False, False, False, False, False, False, False, False, False,\n",
       "       False, False, False, False, False, False, False, False, False,\n",
       "       False, False, False, False, False, False, False, False, False,\n",
       "       False, False, False, False, False, False, False, False, False,\n",
       "       False, False, False, False, False, False, False, False, False,\n",
       "       False, False, False, False, False, False, False, False, False,\n",
       "       False, False, False, False, False, False, False, False, False,\n",
       "       False, False, False, False, False, False, False, False, False,\n",
       "       False, False, False, False, False, False, False, False, False,\n",
       "       False, False, False, False, False, False, False, False, False,\n",
       "       False, False, False, False, False, False, False, False, False,\n",
       "       False, False, False, False, False, False, False, False, False,\n",
       "       False, False,  True, False, False, False, False, False, False,\n",
       "       False, False, False, False, False, False, False, False, False,\n",
       "       False, False, False, False, False, False, False, False, False,\n",
       "       False, False,  True, False, False, False, False, False, False,\n",
       "       False, False, False, False, False, False, False, False, False,\n",
       "       False, False, False, False, False, False, False, False, False,\n",
       "       False, False, False, False, False, False, False, False, False,\n",
       "       False, False, False, False, False, False, False, False, False,\n",
       "       False, False, False, False, False, False, False, False, False,\n",
       "       False, False, False, False, False, False, False, False, False,\n",
       "       False, False, False, False, False, False, False,  True, False,\n",
       "       False, False])"
      ]
     },
     "execution_count": 23,
     "metadata": {},
     "output_type": "execute_result"
    }
   ],
   "source": [
    "outliers"
   ]
  },
  {
   "cell_type": "code",
   "execution_count": 24,
   "id": "543fb6b7-adbb-4817-a544-11bea51eaf57",
   "metadata": {},
   "outputs": [],
   "source": [
    "df['acceleration']=np.where(df['acceleration']<LQ, LQ,df['acceleration'])"
   ]
  },
  {
   "cell_type": "code",
   "execution_count": 25,
   "id": "bebd5506-0e6e-4e93-ab70-1107c91a8a2c",
   "metadata": {},
   "outputs": [],
   "source": [
    "df['acceleration']=np.where(df['acceleration']>UQ, UQ,df['acceleration'])"
   ]
  },
  {
   "cell_type": "code",
   "execution_count": 26,
   "id": "9628b520-c158-4ff6-85b4-94811497adc8",
   "metadata": {},
   "outputs": [
    {
     "data": {
      "text/plain": [
       "<Axes: >"
      ]
     },
     "execution_count": 26,
     "metadata": {},
     "output_type": "execute_result"
    },
    {
     "data": {
      "image/png": "[encoded data removed]",
      "text/plain": [
       "<Figure size 640x480 with 1 Axes>"
      ]
     },
     "metadata": {},
     "output_type": "display_data"
    }
   ],
   "source": [
    "sb.boxplot(df['acceleration'])"
   ]
  },
  {
   "cell_type": "code",
   "execution_count": 27,
   "id": "40bf9d26-9ead-4b37-9c92-0164b5c32df5",
   "metadata": {},
   "outputs": [
    {
     "data": {
      "text/plain": [
       "<Axes: >"
      ]
     },
     "execution_count": 27,
     "metadata": {},
     "output_type": "execute_result"
    },
    {
     "data": {
      "image/png": "[encoded data removed]",
      "text/plain": [
       "<Figure size 640x480 with 2 Axes>"
      ]
     },
     "metadata": {},
     "output_type": "display_data"
    }
   ],
   "source": [
    "sb.heatmap(df.corr(),cmap=\"coolwarm\")"
   ]
  },
  {
   "cell_type": "code",
   "execution_count": 28,
   "id": "1e6e713f-b8f9-4fe7-a7c2-18021ae3a07f",
   "metadata": {},
   "outputs": [],
   "source": [
    "from sklearn.preprocessing import StandardScaler\n",
    "from sklearn.preprocessing import MinMaxScaler\n",
    "import numpy as np\n",
    "scaler=StandardScaler()"
   ]
  },
  {
   "cell_type": "code",
   "execution_count": 29,
   "id": "7aa0cd8c-1bda-43a8-986f-fb290a03e3d8",
   "metadata": {},
   "outputs": [
    {
     "data": {
      "text/html": [
       "<div>\n",
       "<style scoped>\n",
       "    .dataframe tbody tr th:only-of-type {\n",
       "        vertical-align: middle;\n",
       "    }\n",
       "\n",
       "    .dataframe tbody tr th {\n",
       "        vertical-align: top;\n",
       "    }\n",
       "\n",
       "    .dataframe thead th {\n",
       "        text-align: right;\n",
       "    }\n",
       "</style>\n",
       "<table border=\"1\" class=\"dataframe\">\n",
       "  <thead>\n",
       "    <tr style=\"text-align: right;\">\n",
       "      <th></th>\n",
       "      <th>mpg</th>\n",
       "      <th>cylinders</th>\n",
       "      <th>displacement</th>\n",
       "      <th>horsepower</th>\n",
       "      <th>weight</th>\n",
       "      <th>acceleration</th>\n",
       "      <th>model-year</th>\n",
       "    </tr>\n",
       "  </thead>\n",
       "  <tbody>\n",
       "    <tr>\n",
       "      <th>0</th>\n",
       "      <td>18.0</td>\n",
       "      <td>8</td>\n",
       "      <td>192.548101</td>\n",
       "      <td>130.0</td>\n",
       "      <td>3504</td>\n",
       "      <td>12.0</td>\n",
       "      <td>70</td>\n",
       "    </tr>\n",
       "    <tr>\n",
       "      <th>1</th>\n",
       "      <td>15.0</td>\n",
       "      <td>8</td>\n",
       "      <td>350.000000</td>\n",
       "      <td>165.0</td>\n",
       "      <td>3693</td>\n",
       "      <td>11.5</td>\n",
       "      <td>70</td>\n",
       "    </tr>\n",
       "    <tr>\n",
       "      <th>2</th>\n",
       "      <td>18.0</td>\n",
       "      <td>8</td>\n",
       "      <td>192.548101</td>\n",
       "      <td>150.0</td>\n",
       "      <td>3436</td>\n",
       "      <td>11.0</td>\n",
       "      <td>70</td>\n",
       "    </tr>\n",
       "    <tr>\n",
       "      <th>3</th>\n",
       "      <td>16.0</td>\n",
       "      <td>8</td>\n",
       "      <td>304.000000</td>\n",
       "      <td>150.0</td>\n",
       "      <td>3433</td>\n",
       "      <td>12.0</td>\n",
       "      <td>70</td>\n",
       "    </tr>\n",
       "    <tr>\n",
       "      <th>4</th>\n",
       "      <td>17.0</td>\n",
       "      <td>8</td>\n",
       "      <td>192.548101</td>\n",
       "      <td>140.0</td>\n",
       "      <td>3449</td>\n",
       "      <td>10.5</td>\n",
       "      <td>70</td>\n",
       "    </tr>\n",
       "    <tr>\n",
       "      <th>...</th>\n",
       "      <td>...</td>\n",
       "      <td>...</td>\n",
       "      <td>...</td>\n",
       "      <td>...</td>\n",
       "      <td>...</td>\n",
       "      <td>...</td>\n",
       "      <td>...</td>\n",
       "    </tr>\n",
       "    <tr>\n",
       "      <th>393</th>\n",
       "      <td>27.0</td>\n",
       "      <td>4</td>\n",
       "      <td>140.000000</td>\n",
       "      <td>86.0</td>\n",
       "      <td>2790</td>\n",
       "      <td>15.6</td>\n",
       "      <td>82</td>\n",
       "    </tr>\n",
       "    <tr>\n",
       "      <th>394</th>\n",
       "      <td>44.0</td>\n",
       "      <td>4</td>\n",
       "      <td>97.000000</td>\n",
       "      <td>52.0</td>\n",
       "      <td>2130</td>\n",
       "      <td>22.2</td>\n",
       "      <td>82</td>\n",
       "    </tr>\n",
       "    <tr>\n",
       "      <th>395</th>\n",
       "      <td>32.0</td>\n",
       "      <td>4</td>\n",
       "      <td>135.000000</td>\n",
       "      <td>84.0</td>\n",
       "      <td>2295</td>\n",
       "      <td>11.6</td>\n",
       "      <td>82</td>\n",
       "    </tr>\n",
       "    <tr>\n",
       "      <th>396</th>\n",
       "      <td>28.0</td>\n",
       "      <td>4</td>\n",
       "      <td>120.000000</td>\n",
       "      <td>79.0</td>\n",
       "      <td>2625</td>\n",
       "      <td>18.6</td>\n",
       "      <td>82</td>\n",
       "    </tr>\n",
       "    <tr>\n",
       "      <th>397</th>\n",
       "      <td>31.0</td>\n",
       "      <td>4</td>\n",
       "      <td>119.000000</td>\n",
       "      <td>82.0</td>\n",
       "      <td>2720</td>\n",
       "      <td>19.4</td>\n",
       "      <td>82</td>\n",
       "    </tr>\n",
       "  </tbody>\n",
       "</table>\n",
       "<p>398 rows × 7 columns</p>\n",
       "</div>"
      ],
      "text/plain": [
       "      mpg  cylinders  displacement  horsepower  weight  acceleration  \\\n",
       "0    18.0          8    192.548101       130.0    3504          12.0   \n",
       "1    15.0          8    350.000000       165.0    3693          11.5   \n",
       "2    18.0          8    192.548101       150.0    3436          11.0   \n",
       "3    16.0          8    304.000000       150.0    3433          12.0   \n",
       "4    17.0          8    192.548101       140.0    3449          10.5   \n",
       "..    ...        ...           ...         ...     ...           ...   \n",
       "393  27.0          4    140.000000        86.0    2790          15.6   \n",
       "394  44.0          4     97.000000        52.0    2130          22.2   \n",
       "395  32.0          4    135.000000        84.0    2295          11.6   \n",
       "396  28.0          4    120.000000        79.0    2625          18.6   \n",
       "397  31.0          4    119.000000        82.0    2720          19.4   \n",
       "\n",
       "     model-year  \n",
       "0            70  \n",
       "1            70  \n",
       "2            70  \n",
       "3            70  \n",
       "4            70  \n",
       "..          ...  \n",
       "393          82  \n",
       "394          82  \n",
       "395          82  \n",
       "396          82  \n",
       "397          82  \n",
       "\n",
       "[398 rows x 7 columns]"
      ]
     },
     "execution_count": 29,
     "metadata": {},
     "output_type": "execute_result"
    }
   ],
   "source": [
    "df"
   ]
  },
  {
   "cell_type": "code",
   "execution_count": 30,
   "id": "a47cfc88-c52d-4c93-a0fc-fc6103b409bd",
   "metadata": {},
   "outputs": [],
   "source": [
    "disp=df[['acceleration']]"
   ]
  },
  {
   "cell_type": "code",
   "execution_count": 31,
   "id": "08dcab2f-2d2f-4156-a910-eb0e18e90219",
   "metadata": {},
   "outputs": [
    {
     "data": {
      "text/html": [
       "<div>\n",
       "<style scoped>\n",
       "    .dataframe tbody tr th:only-of-type {\n",
       "        vertical-align: middle;\n",
       "    }\n",
       "\n",
       "    .dataframe tbody tr th {\n",
       "        vertical-align: top;\n",
       "    }\n",
       "\n",
       "    .dataframe thead th {\n",
       "        text-align: right;\n",
       "    }\n",
       "</style>\n",
       "<table border=\"1\" class=\"dataframe\">\n",
       "  <thead>\n",
       "    <tr style=\"text-align: right;\">\n",
       "      <th></th>\n",
       "      <th>acceleration</th>\n",
       "    </tr>\n",
       "  </thead>\n",
       "  <tbody>\n",
       "    <tr>\n",
       "      <th>0</th>\n",
       "      <td>12.0</td>\n",
       "    </tr>\n",
       "    <tr>\n",
       "      <th>1</th>\n",
       "      <td>11.5</td>\n",
       "    </tr>\n",
       "    <tr>\n",
       "      <th>2</th>\n",
       "      <td>11.0</td>\n",
       "    </tr>\n",
       "    <tr>\n",
       "      <th>3</th>\n",
       "      <td>12.0</td>\n",
       "    </tr>\n",
       "    <tr>\n",
       "      <th>4</th>\n",
       "      <td>10.5</td>\n",
       "    </tr>\n",
       "    <tr>\n",
       "      <th>...</th>\n",
       "      <td>...</td>\n",
       "    </tr>\n",
       "    <tr>\n",
       "      <th>393</th>\n",
       "      <td>15.6</td>\n",
       "    </tr>\n",
       "    <tr>\n",
       "      <th>394</th>\n",
       "      <td>22.2</td>\n",
       "    </tr>\n",
       "    <tr>\n",
       "      <th>395</th>\n",
       "      <td>11.6</td>\n",
       "    </tr>\n",
       "    <tr>\n",
       "      <th>396</th>\n",
       "      <td>18.6</td>\n",
       "    </tr>\n",
       "    <tr>\n",
       "      <th>397</th>\n",
       "      <td>19.4</td>\n",
       "    </tr>\n",
       "  </tbody>\n",
       "</table>\n",
       "<p>398 rows × 1 columns</p>\n",
       "</div>"
      ],
      "text/plain": [
       "     acceleration\n",
       "0            12.0\n",
       "1            11.5\n",
       "2            11.0\n",
       "3            12.0\n",
       "4            10.5\n",
       "..            ...\n",
       "393          15.6\n",
       "394          22.2\n",
       "395          11.6\n",
       "396          18.6\n",
       "397          19.4\n",
       "\n",
       "[398 rows x 1 columns]"
      ]
     },
     "execution_count": 31,
     "metadata": {},
     "output_type": "execute_result"
    }
   ],
   "source": [
    "disp"
   ]
  },
  {
   "cell_type": "code",
   "execution_count": 32,
   "id": "c59d1b63-c0d7-456b-9a9e-c9fac2f0f0ab",
   "metadata": {},
   "outputs": [
    {
     "data": {
      "text/plain": [
       "array([[-1.32059529],\n",
       "       [-1.50648937],\n",
       "       [-1.69238346],\n",
       "       [-1.32059529],\n",
       "       [-1.87827754],\n",
       "       [-2.06417162],\n",
       "       [-2.43595978],\n",
       "       [-2.51031742],\n",
       "       [-2.06417162],\n",
       "       [-2.51031742],\n",
       "       [-2.06417162],\n",
       "       [-2.51031742],\n",
       "       [-2.2500657 ],\n",
       "       [-2.06417162],\n",
       "       [-0.2052308 ],\n",
       "       [-0.01933672],\n",
       "       [-0.01933672],\n",
       "       [ 0.16655736],\n",
       "       [-0.39112488],\n",
       "       [ 1.8396041 ],\n",
       "       [ 0.72423961],\n",
       "       [-0.39112488],\n",
       "       [ 0.72423961],\n",
       "       [-1.13470121],\n",
       "       [-0.2052308 ],\n",
       "       [-0.57701897],\n",
       "       [-0.2052308 ],\n",
       "       [-0.76291305],\n",
       "       [ 1.09602777],\n",
       "       [-0.39112488],\n",
       "       [-0.01933672],\n",
       "       [-0.57701897],\n",
       "       [ 1.28192185],\n",
       "       [-0.94880713],\n",
       "       [-0.01933672],\n",
       "       [-0.01933672],\n",
       "       [-0.01933672],\n",
       "       [-0.01933672],\n",
       "       [-1.32059529],\n",
       "       [-1.50648937],\n",
       "       [-0.76291305],\n",
       "       [-0.94880713],\n",
       "       [-1.50648937],\n",
       "       [-1.32059529],\n",
       "       [-1.32059529],\n",
       "       [-0.76291305],\n",
       "       [ 1.28192185],\n",
       "       [-0.2052308 ],\n",
       "       [-0.39112488],\n",
       "       [-0.57701897],\n",
       "       [-0.57701897],\n",
       "       [ 1.46781593],\n",
       "       [-0.39112488],\n",
       "       [ 1.28192185],\n",
       "       [ 0.91013369],\n",
       "       [ 1.28192185],\n",
       "       [ 1.8396041 ],\n",
       "       [-0.01933672],\n",
       "       [ 0.53834552],\n",
       "       [ 2.47164397],\n",
       "       [ 1.46781593],\n",
       "       [ 0.35245144],\n",
       "       [-1.32059529],\n",
       "       [-1.32059529],\n",
       "       [-0.76291305],\n",
       "       [-0.94880713],\n",
       "       [-1.50648937],\n",
       "       [-1.69238346],\n",
       "       [-0.76291305],\n",
       "       [-0.76291305],\n",
       "       [-1.13470121],\n",
       "       [-0.76291305],\n",
       "       [-1.13470121],\n",
       "       [-0.57701897],\n",
       "       [ 0.16655736],\n",
       "       [-0.57701897],\n",
       "       [-0.39112488],\n",
       "       [ 0.91013369],\n",
       "       [ 1.46781593],\n",
       "       [ 0.91013369],\n",
       "       [ 0.16655736],\n",
       "       [ 0.53834552],\n",
       "       [-0.39112488],\n",
       "       [-0.2052308 ],\n",
       "       [ 0.35245144],\n",
       "       [-0.94880713],\n",
       "       [-1.50648937],\n",
       "       [-0.94880713],\n",
       "       [-0.39112488],\n",
       "       [-1.13470121],\n",
       "       [-1.50648937],\n",
       "       [-1.32059529],\n",
       "       [-0.94880713],\n",
       "       [-0.39112488],\n",
       "       [-1.69238346],\n",
       "       [-1.69238346],\n",
       "       [-1.69238346],\n",
       "       [ 0.35245144],\n",
       "       [ 0.91013369],\n",
       "       [ 0.16655736],\n",
       "       [ 0.35245144],\n",
       "       [ 0.16655736],\n",
       "       [ 2.02549818],\n",
       "       [-0.57701897],\n",
       "       [-1.13470121],\n",
       "       [-0.94880713],\n",
       "       [-1.13470121],\n",
       "       [-0.2052308 ],\n",
       "       [ 1.28192185],\n",
       "       [ 1.46781593],\n",
       "       [ 0.35245144],\n",
       "       [-0.76291305],\n",
       "       [ 1.09602777],\n",
       "       [-0.57701897],\n",
       "       [-0.01933672],\n",
       "       [-0.94880713],\n",
       "       [-2.2500657 ],\n",
       "       [ 1.46781593],\n",
       "       [-0.01933672],\n",
       "       [-0.57701897],\n",
       "       [-0.01933672],\n",
       "       [-1.69238346],\n",
       "       [-0.57701897],\n",
       "       [-0.76291305],\n",
       "       [-1.69238346],\n",
       "       [ 0.35245144],\n",
       "       [ 0.53834552],\n",
       "       [ 0.16655736],\n",
       "       [ 0.53834552],\n",
       "       [ 1.28192185],\n",
       "       [ 0.35245144],\n",
       "       [ 2.02549818],\n",
       "       [ 0.53834552],\n",
       "       [ 0.53834552],\n",
       "       [ 0.91013369],\n",
       "       [ 0.35245144],\n",
       "       [-0.57701897],\n",
       "       [-0.39112488],\n",
       "       [-0.76291305],\n",
       "       [ 0.16655736],\n",
       "       [-0.01933672],\n",
       "       [ 0.35245144],\n",
       "       [-0.01933672],\n",
       "       [-0.39112488],\n",
       "       [ 0.35245144],\n",
       "       [ 1.28192185],\n",
       "       [-0.39112488],\n",
       "       [-0.01933672],\n",
       "       [-0.57701897],\n",
       "       [-0.2052308 ],\n",
       "       [-0.01933672],\n",
       "       [ 0.16655736],\n",
       "       [ 0.16655736],\n",
       "       [ 0.16655736],\n",
       "       [ 2.02549818],\n",
       "       [ 1.46781593],\n",
       "       [-1.50648937],\n",
       "       [-0.57701897],\n",
       "       [-0.39112488],\n",
       "       [-0.76291305],\n",
       "       [ 2.02549818],\n",
       "       [ 1.09602777],\n",
       "       [ 1.28192185],\n",
       "       [ 1.28192185],\n",
       "       [-0.2052308 ],\n",
       "       [-0.76291305],\n",
       "       [-1.32059529],\n",
       "       [ 0.16655736],\n",
       "       [ 0.53834552],\n",
       "       [ 0.16655736],\n",
       "       [ 1.09602777],\n",
       "       [-0.76291305],\n",
       "       [ 0.35245144],\n",
       "       [ 0.53834552],\n",
       "       [-0.39112488],\n",
       "       [-0.57701897],\n",
       "       [ 0.53834552],\n",
       "       [-0.2052308 ],\n",
       "       [ 0.53834552],\n",
       "       [-0.39112488],\n",
       "       [-0.76291305],\n",
       "       [ 0.72423961],\n",
       "       [-0.01933672],\n",
       "       [ 0.50116671],\n",
       "       [-0.24240962],\n",
       "       [ 0.79859724],\n",
       "       [-0.09369435],\n",
       "       [-0.94880713],\n",
       "       [-0.94880713],\n",
       "       [-0.61419778],\n",
       "       [-1.02316476],\n",
       "       [-0.05651554],\n",
       "       [-0.39112488],\n",
       "       [ 0.76141842],\n",
       "       [ 0.76141842],\n",
       "       [ 2.47164397],\n",
       "       [ 2.43446516],\n",
       "       [-0.50266133],\n",
       "       [ 0.68706079],\n",
       "       [ 0.79859724],\n",
       "       [ 2.02549818],\n",
       "       [ 0.24091499],\n",
       "       [ 0.83577605],\n",
       "       [-1.24623766],\n",
       "       [ 0.53834552],\n",
       "       [ 0.31527263],\n",
       "       [-0.72573423],\n",
       "       [ 0.05502091],\n",
       "       [-0.8744495 ],\n",
       "       [ 2.36010753],\n",
       "       [-0.01933672],\n",
       "       [ 0.42680908],\n",
       "       [-1.28341648],\n",
       "       [-1.32059529],\n",
       "       [-0.2052308 ],\n",
       "       [-0.57701897],\n",
       "       [ 1.09602777],\n",
       "       [-0.27958844],\n",
       "       [ 1.13320659],\n",
       "       [-0.01933672],\n",
       "       [ 0.46398789],\n",
       "       [-1.13470121],\n",
       "       [ 1.28192185],\n",
       "       [-0.68855542],\n",
       "       [-0.24240962],\n",
       "       [ 0.31527263],\n",
       "       [ 0.50116671],\n",
       "       [ 0.79859724],\n",
       "       [ 1.28192185],\n",
       "       [-1.65520464],\n",
       "       [-1.54366819],\n",
       "       [-1.24623766],\n",
       "       [-0.39112488],\n",
       "       [-0.39112488],\n",
       "       [ 0.16655736],\n",
       "       [ 0.98449132],\n",
       "       [ 0.09219973],\n",
       "       [ 0.53834552],\n",
       "       [ 0.12937854],\n",
       "       [ 0.31527263],\n",
       "       [-0.53984015],\n",
       "       [-0.39112488],\n",
       "       [-1.02316476],\n",
       "       [-0.76291305],\n",
       "       [ 2.21139226],\n",
       "       [-0.4283037 ],\n",
       "       [ 1.43063712],\n",
       "       [ 1.13320659],\n",
       "       [ 0.31527263],\n",
       "       [-0.01933672],\n",
       "       [-0.8744495 ],\n",
       "       [-1.02316476],\n",
       "       [ 1.35627948],\n",
       "       [ 0.98449132],\n",
       "       [ 0.09219973],\n",
       "       [-0.05651554],\n",
       "       [ 0.61270316],\n",
       "       [ 0.61270316],\n",
       "       [ 0.09219973],\n",
       "       [ 0.42680908],\n",
       "       [ 1.1703854 ],\n",
       "       [-0.16805199],\n",
       "       [-0.8744495 ],\n",
       "       [-0.80009186],\n",
       "       [-1.61802582],\n",
       "       [-0.68855542],\n",
       "       [ 0.35245144],\n",
       "       [-0.50266133],\n",
       "       [-0.31676725],\n",
       "       [-0.39112488],\n",
       "       [-0.27958844],\n",
       "       [ 0.42680908],\n",
       "       [ 0.76141842],\n",
       "       [-0.24240962],\n",
       "       [ 0.12937854],\n",
       "       [-0.72573423],\n",
       "       [ 0.05502091],\n",
       "       [ 0.09219973],\n",
       "       [-0.24240962],\n",
       "       [ 0.38963026],\n",
       "       [-0.05651554],\n",
       "       [ 0.98449132],\n",
       "       [ 0.64988197],\n",
       "       [ 0.98449132],\n",
       "       [ 0.38963026],\n",
       "       [-0.05651554],\n",
       "       [-0.80009186],\n",
       "       [-0.8744495 ],\n",
       "       [-0.13087317],\n",
       "       [-0.24240962],\n",
       "       [-0.46548252],\n",
       "       [-0.2052308 ],\n",
       "       [-0.94880713],\n",
       "       [-0.57701897],\n",
       "       [-0.13087317],\n",
       "       [-0.4283037 ],\n",
       "       [-0.2052308 ],\n",
       "       [ 1.69088883],\n",
       "       [ 0.68706079],\n",
       "       [ 2.47164397],\n",
       "       [ 2.47164397],\n",
       "       [-0.8744495 ],\n",
       "       [-0.24240962],\n",
       "       [ 1.35627948],\n",
       "       [-0.31676725],\n",
       "       [ 0.16655736],\n",
       "       [-1.58084701],\n",
       "       [-0.98598595],\n",
       "       [-0.8744495 ],\n",
       "       [-0.31676725],\n",
       "       [ 1.20756422],\n",
       "       [-0.01933672],\n",
       "       [ 0.31527263],\n",
       "       [ 0.35245144],\n",
       "       [ 0.9473125 ],\n",
       "       [ 1.69088883],\n",
       "       [ 1.1703854 ],\n",
       "       [ 0.09219973],\n",
       "       [-0.01933672],\n",
       "       [ 0.72423961],\n",
       "       [-0.2052308 ],\n",
       "       [-0.13087317],\n",
       "       [ 0.87295487],\n",
       "       [-0.4283037 ],\n",
       "       [ 1.35627948],\n",
       "       [ 2.28574989],\n",
       "       [ 2.47164397],\n",
       "       [ 1.6165312 ],\n",
       "       [ 2.32292871],\n",
       "       [-0.6513766 ],\n",
       "       [ 0.64988197],\n",
       "       [ 0.91013369],\n",
       "       [-0.09369435],\n",
       "       [-1.54366819],\n",
       "       [-1.13470121],\n",
       "       [-0.16805199],\n",
       "       [-0.46548252],\n",
       "       [ 0.53834552],\n",
       "       [ 0.05502091],\n",
       "       [ 0.31527263],\n",
       "       [-0.4283037 ],\n",
       "       [-1.0975224 ],\n",
       "       [-0.98598595],\n",
       "       [ 0.50116671],\n",
       "       [ 0.31527263],\n",
       "       [ 0.20373618],\n",
       "       [ 0.83577605],\n",
       "       [ 1.43063712],\n",
       "       [ 0.64988197],\n",
       "       [ 0.16655736],\n",
       "       [-0.24240962],\n",
       "       [ 0.24091499],\n",
       "       [ 1.91396173],\n",
       "       [-0.50266133],\n",
       "       [ 0.09219973],\n",
       "       [-0.4283037 ],\n",
       "       [ 0.46398789],\n",
       "       [-0.27958844],\n",
       "       [ 1.02167014],\n",
       "       [ 1.80242528],\n",
       "       [ 1.50499475],\n",
       "       [-1.0975224 ],\n",
       "       [-0.6513766 ],\n",
       "       [ 0.09219973],\n",
       "       [ 1.28192185],\n",
       "       [ 0.57552434],\n",
       "       [ 0.38963026],\n",
       "       [ 1.50499475],\n",
       "       [ 1.13320659],\n",
       "       [ 0.91013369],\n",
       "       [ 0.24091499],\n",
       "       [ 0.16655736],\n",
       "       [ 0.91013369],\n",
       "       [ 0.31527263],\n",
       "       [ 1.8396041 ],\n",
       "       [-0.09369435],\n",
       "       [ 0.98449132],\n",
       "       [ 0.76141842],\n",
       "       [-0.31676725],\n",
       "       [ 0.64988197],\n",
       "       [-0.39112488],\n",
       "       [-0.39112488],\n",
       "       [ 0.50116671],\n",
       "       [-0.2052308 ],\n",
       "       [ 0.05502091],\n",
       "       [ 0.24091499],\n",
       "       [ 0.31527263],\n",
       "       [ 0.53834552],\n",
       "       [-0.39112488],\n",
       "       [-0.31676725],\n",
       "       [-0.61419778],\n",
       "       [-0.94880713],\n",
       "       [ 0.64988197],\n",
       "       [ 0.0178421 ],\n",
       "       [ 2.47164397],\n",
       "       [-1.46931056],\n",
       "       [ 1.13320659],\n",
       "       [ 1.43063712]])"
      ]
     },
     "execution_count": 32,
     "metadata": {},
     "output_type": "execute_result"
    }
   ],
   "source": [
    "scaler.fit_transform(disp)"
   ]
  },
  {
   "cell_type": "code",
   "execution_count": 33,
   "id": "5468c369-677d-4366-a9b0-bdd4f6930955",
   "metadata": {},
   "outputs": [],
   "source": [
    "scaler1=MinMaxScaler()"
   ]
  },
  {
   "cell_type": "raw",
   "id": "2def7343-e410-46bc-976d-19673f33721c",
   "metadata": {},
   "source": [
    "scaler1.fit([[1,2],[3,4]])"
   ]
  },
  {
   "cell_type": "code",
   "execution_count": 34,
   "id": "65bf5e84-527a-4b37-953d-9fe6e1aec43f",
   "metadata": {},
   "outputs": [
    {
     "data": {
      "image/png": "[encoded data removed]",
      "text/plain": [
       "<Figure size 1000x500 with 2 Axes>"
      ]
     },
     "metadata": {},
     "output_type": "display_data"
    }
   ],
   "source": [
    "df[['mpg', 'horsepower']].hist(bins=15, figsize=(10, 5))\n",
    "plt.show()"
   ]
  },
  {
   "cell_type": "code",
   "execution_count": 35,
   "id": "41d4cd25-9640-45f4-9001-41abd3cc07f9",
   "metadata": {},
   "outputs": [
    {
     "data": {
      "image/png": "[encoded data removed]",
      "text/plain": [
       "<Figure size 640x480 with 1 Axes>"
      ]
     },
     "metadata": {},
     "output_type": "display_data"
    }
   ],
   "source": [
    "plt.scatter(df['mpg'], df['horsepower'])\n",
    "plt.xlabel('MPG')\n",
    "plt.ylabel('Horsepower')\n",
    "plt.show()"
   ]
  },
  {
   "cell_type": "code",
   "execution_count": 46,
   "id": "aed67103-f577-497b-a336-278cf7cdcab7",
   "metadata": {},
   "outputs": [
    {
     "data": {
      "image/png": "[encoded data removed]",
      "text/plain": [
       "<Figure size 640x480 with 1 Axes>"
      ]
     },
     "metadata": {},
     "output_type": "display_data"
    }
   ],
   "source": [
    "# 2c. Find and display the frequency of the categorical values using count plot\n",
    "sb.countplot(x=df['cylinders'])\n",
    "plt.show()"
   ]
  },
  {
   "cell_type": "code",
   "execution_count": 38,
   "id": "3281320e-5804-442f-9e64-2a0407c92f4e",
   "metadata": {},
   "outputs": [
    {
     "data": {
      "image/png": "[encoded data removed]",
      "text/plain": [
       "<Figure size 640x480 with 1 Axes>"
      ]
     },
     "metadata": {},
     "output_type": "display_data"
    }
   ],
   "source": [
    "sb.pointplot(x='cylinders', y='mpg', data=df)\n",
    "plt.show()"
   ]
  },
  {
   "cell_type": "code",
   "execution_count": null,
   "id": "46246fb3-d5de-4bdb-8213-753604d0125f",
   "metadata": {},
   "outputs": [],
   "source": []
  }
 ],
 "metadata": {
  "kernelspec": {
   "display_name": "Python 3 (ipykernel)",
   "language": "python",
   "name": "python3"
  },
  "language_info": {
   "codemirror_mode": {
    "name": "ipython",
    "version": 3
   },
   "file_extension": ".py",
   "mimetype": "text/x-python",
   "name": "python",
   "nbconvert_exporter": "python",
   "pygments_lexer": "ipython3",
   "version": "3.11.7"
  }
 },
 "nbformat": 4,
 "nbformat_minor": 5
}
