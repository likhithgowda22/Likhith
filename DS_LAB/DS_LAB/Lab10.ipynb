{
 "cells": [
  {
   "cell_type": "code",
   "execution_count": 2,
   "id": "824f9f65",
   "metadata": {
    "executionInfo": {
     "elapsed": 14136,
     "status": "ok",
     "timestamp": 1722605136303,
     "user": {
      "displayName": "Divya T.L.",
      "userId": "06144781758931208850"
     },
     "user_tz": -330
    },
    "id": "824f9f65"
   },
   "outputs": [
    {
     "name": "stderr",
     "output_type": "stream",
     "text": [
      "2024-08-23 16:45:18.988518: I tensorflow/core/util/port.cc:153] oneDNN custom operations are on. You may see slightly different numerical results due to floating-point round-off errors from different computation orders. To turn them off, set the environment variable `TF_ENABLE_ONEDNN_OPTS=0`.\n",
      "2024-08-23 16:45:18.995516: I external/local_xla/xla/tsl/cuda/cudart_stub.cc:32] Could not find cuda drivers on your machine, GPU will not be used.\n",
      "2024-08-23 16:45:19.070446: I external/local_xla/xla/tsl/cuda/cudart_stub.cc:32] Could not find cuda drivers on your machine, GPU will not be used.\n",
      "2024-08-23 16:45:19.162294: E external/local_xla/xla/stream_executor/cuda/cuda_fft.cc:485] Unable to register cuFFT factory: Attempting to register factory for plugin cuFFT when one has already been registered\n",
      "2024-08-23 16:45:19.223245: E external/local_xla/xla/stream_executor/cuda/cuda_dnn.cc:8454] Unable to register cuDNN factory: Attempting to register factory for plugin cuDNN when one has already been registered\n",
      "2024-08-23 16:45:19.241869: E external/local_xla/xla/stream_executor/cuda/cuda_blas.cc:1452] Unable to register cuBLAS factory: Attempting to register factory for plugin cuBLAS when one has already been registered\n",
      "2024-08-23 16:45:19.368317: I tensorflow/core/platform/cpu_feature_guard.cc:210] This TensorFlow binary is optimized to use available CPU instructions in performance-critical operations.\n",
      "To enable the following instructions: AVX2 AVX_VNNI FMA, in other operations, rebuild TensorFlow with the appropriate compiler flags.\n",
      "2024-08-23 16:45:20.163746: W tensorflow/compiler/tf2tensorrt/utils/py_utils.cc:38] TF-TRT Warning: Could not find TensorRT\n"
     ]
    }
   ],
   "source": [
    "import numpy as np\n",
    "import keras\n",
    "from keras.datasets import mnist\n",
    "from keras import models\n",
    "from keras.layers import Dense, Input\n",
    "from keras.layers import Conv2D, MaxPooling2D, Dropout, Flatten\n",
    "from keras import backend as k"
   ]
  },
  {
   "cell_type": "code",
   "execution_count": 3,
   "id": "4bed7306",
   "metadata": {
    "id": "4bed7306",
    "outputId": "81cbb085-7bd3-42fb-f890-55813e45b198"
   },
   "outputs": [],
   "source": [
    "(train_images, train_labels), (test_images, test_labels) = mnist.load_data()\n",
    "train_images = train_images.reshape((60000, 28, 28, 1))\n",
    "test_images = test_images.reshape((10000, 28, 28, 1))"
   ]
  },
  {
   "cell_type": "code",
   "execution_count": 4,
   "id": "837e40d8",
   "metadata": {
    "id": "837e40d8"
   },
   "outputs": [],
   "source": [
    "train_images = train_images.astype('float32') / 255\n",
    "test_images = test_images.astype('float32') / 255\n"
   ]
  },
  {
   "cell_type": "code",
   "execution_count": 5,
   "id": "778637ae",
   "metadata": {
    "id": "778637ae"
   },
   "outputs": [],
   "source": [
    "train_labels = keras.utils.to_categorical(train_labels)\n",
    "test_labels = keras.utils.to_categorical(test_labels)\n"
   ]
  },
  {
   "cell_type": "code",
   "execution_count": 6,
   "id": "905f8c2c",
   "metadata": {
    "id": "905f8c2c"
   },
   "outputs": [
    {
     "name": "stderr",
     "output_type": "stream",
     "text": [
      "/home/divya/.local/lib/python3.12/site-packages/keras/src/layers/convolutional/base_conv.py:107: UserWarning: Do not pass an `input_shape`/`input_dim` argument to a layer. When using Sequential models, prefer using an `Input(shape)` object as the first layer in the model instead.\n",
      "  super().__init__(activity_regularizer=activity_regularizer, **kwargs)\n"
     ]
    }
   ],
   "source": [
    "model = models.Sequential()\n",
    "model.add(Conv2D(32, (3, 3), activation='relu', input_shape=(28, 28, 1)))\n",
    "model.add(MaxPooling2D((2, 2)))\n",
    "model.add(Conv2D(48, (3, 3), activation='relu'))\n",
    "model.add(MaxPooling2D((2, 2)))\n",
    "model.add(Dropout(0.5))\n",
    "model.add(Flatten())\n",
    "model.add(Dense(500, activation='relu'))\n",
    "model.add(Dense(10, activation='softmax'))"
   ]
  },
  {
   "cell_type": "code",
   "execution_count": 7,
   "id": "ae13656e",
   "metadata": {
    "id": "ae13656e"
   },
   "outputs": [],
   "source": [
    "model.compile(optimizer='adam',\n",
    "              loss='categorical_crossentropy',\n",
    "              metrics=['accuracy'])"
   ]
  },
  {
   "cell_type": "code",
   "execution_count": 8,
   "id": "b0c85b41",
   "metadata": {
    "id": "b0c85b41",
    "outputId": "dfaa7e12-145a-417e-9362-7a0b09335b12"
   },
   "outputs": [
    {
     "name": "stdout",
     "output_type": "stream",
     "text": [
      "Epoch 1/10\n",
      "422/422 - 6s - 15ms/step - accuracy: 0.9247 - loss: 0.2462 - val_accuracy: 0.9822 - val_loss: 0.0611\n",
      "Epoch 2/10\n",
      "422/422 - 5s - 12ms/step - accuracy: 0.9740 - loss: 0.0815 - val_accuracy: 0.9890 - val_loss: 0.0397\n",
      "Epoch 3/10\n",
      "422/422 - 5s - 13ms/step - accuracy: 0.9807 - loss: 0.0606 - val_accuracy: 0.9897 - val_loss: 0.0325\n",
      "Epoch 4/10\n",
      "422/422 - 5s - 13ms/step - accuracy: 0.9855 - loss: 0.0457 - val_accuracy: 0.9903 - val_loss: 0.0302\n",
      "Epoch 5/10\n",
      "422/422 - 8s - 18ms/step - accuracy: 0.9867 - loss: 0.0414 - val_accuracy: 0.9905 - val_loss: 0.0305\n",
      "Epoch 6/10\n",
      "422/422 - 9s - 20ms/step - accuracy: 0.9884 - loss: 0.0360 - val_accuracy: 0.9912 - val_loss: 0.0294\n",
      "Epoch 7/10\n",
      "422/422 - 8s - 20ms/step - accuracy: 0.9898 - loss: 0.0318 - val_accuracy: 0.9912 - val_loss: 0.0279\n",
      "Epoch 8/10\n",
      "422/422 - 9s - 20ms/step - accuracy: 0.9906 - loss: 0.0294 - val_accuracy: 0.9922 - val_loss: 0.0263\n",
      "Epoch 9/10\n",
      "422/422 - 9s - 21ms/step - accuracy: 0.9913 - loss: 0.0276 - val_accuracy: 0.9925 - val_loss: 0.0277\n",
      "Epoch 10/10\n",
      "422/422 - 9s - 20ms/step - accuracy: 0.9921 - loss: 0.0229 - val_accuracy: 0.9933 - val_loss: 0.0220\n"
     ]
    },
    {
     "data": {
      "text/plain": [
       "<keras.src.callbacks.history.History at 0x76b5a43b7b60>"
      ]
     },
     "execution_count": 8,
     "metadata": {},
     "output_type": "execute_result"
    }
   ],
   "source": [
    "model.fit(train_images, train_labels, epochs=10, batch_size=128,verbose=2,validation_split=0.1)"
   ]
  },
  {
   "cell_type": "code",
   "execution_count": 9,
   "id": "c5040ff0",
   "metadata": {
    "id": "c5040ff0",
    "outputId": "b14c171a-83e4-4c6c-bdd7-5b1fe37f9f50"
   },
   "outputs": [
    {
     "name": "stdout",
     "output_type": "stream",
     "text": [
      "\u001b[1m313/313\u001b[0m \u001b[32m━━━━━━━━━━━━━━━━━━━━\u001b[0m\u001b[37m\u001b[0m \u001b[1m1s\u001b[0m 2ms/step - accuracy: 0.9906 - loss: 0.0253\n",
      "Test accuracy: 0.992900013923645\n"
     ]
    }
   ],
   "source": [
    "test_loss, test_acc = model.evaluate(test_images, test_labels)\n",
    "print('Test accuracy:', test_acc)"
   ]
  },
  {
   "cell_type": "code",
   "execution_count": 1,
   "id": "94a05d65",
   "metadata": {
    "id": "94a05d65",
    "outputId": "9260a8ee-4292-46d8-a017-367793e22ab3"
   },
   "outputs": [
    {
     "ename": "NameError",
     "evalue": "name 'test_images' is not defined",
     "output_type": "error",
     "traceback": [
      "\u001b[0;31m---------------------------------------------------------------------------\u001b[0m",
      "\u001b[0;31mNameError\u001b[0m                                 Traceback (most recent call last)",
      "Cell \u001b[0;32mIn[1], line 4\u001b[0m\n\u001b[1;32m      1\u001b[0m \u001b[38;5;28;01mimport\u001b[39;00m \u001b[38;5;21;01mnumpy\u001b[39;00m \u001b[38;5;28;01mas\u001b[39;00m \u001b[38;5;21;01mnp\u001b[39;00m\n\u001b[1;32m      2\u001b[0m image_index\u001b[38;5;241m=\u001b[39m\u001b[38;5;241m21\u001b[39m\n\u001b[0;32m----> 4\u001b[0m image \u001b[38;5;241m=\u001b[39m np\u001b[38;5;241m.\u001b[39mreshape(\u001b[43mtest_images\u001b[49m[image_index], (\u001b[38;5;241m1\u001b[39m, \u001b[38;5;241m28\u001b[39m, \u001b[38;5;241m28\u001b[39m, \u001b[38;5;241m1\u001b[39m))\n\u001b[1;32m      6\u001b[0m predictions \u001b[38;5;241m=\u001b[39m model\u001b[38;5;241m.\u001b[39mpredict(image)\n\u001b[1;32m      7\u001b[0m predicted_label \u001b[38;5;241m=\u001b[39m np\u001b[38;5;241m.\u001b[39margmax(predictions)\n",
      "\u001b[0;31mNameError\u001b[0m: name 'test_images' is not defined"
     ]
    }
   ],
   "source": [
    "import numpy as np\n",
    "image_index=21\n",
    "\n",
    "image = np.reshape(test_images[image_index], (1, 28, 28, 1))\n",
    "\n",
    "predictions = model.predict(image)\n",
    "predicted_label = np.argmax(predictions)\n",
    "\n",
    "actual_label = np.argmax(test_labels[image_index])\n",
    "\n",
    "print(f\"Predicted Label: {predicted_label}\")\n",
    "print(f\"Actual Label: {actual_label}\")\n",
    "\n",
    "import matplotlib.pyplot as plt\n",
    "\n",
    "plt.imshow(np.squeeze(test_images[image_index]), cmap='gray')\n",
    "plt.show()\n"
   ]
  },
  {
   "cell_type": "code",
   "execution_count": 17,
   "id": "074d9236-80c4-4ac7-8bf9-2521d3f4b05e",
   "metadata": {
    "id": "074d9236-80c4-4ac7-8bf9-2521d3f4b05e"
   },
   "outputs": [
    {
     "data": {
      "text/plain": [
       "<matplotlib.image.AxesImage at 0x792d9ebb84a0>"
      ]
     },
     "execution_count": 17,
     "metadata": {},
     "output_type": "execute_result"
    },
    {
     "data": {
      "image/png": "[encoded data removed]",
      "text/plain": [
       "<Figure size 640x480 with 1 Axes>"
      ]
     },
     "metadata": {},
     "output_type": "display_data"
    }
   ],
   "source": [
    "plt.imshow(np.squeeze(test_images[10]), cmap='gray')"
   ]
  },
  {
   "cell_type": "code",
   "execution_count": null,
   "id": "4e216bb2",
   "metadata": {},
   "outputs": [],
   "source": []
  },
  {
   "cell_type": "code",
   "execution_count": null,
   "id": "bf164c91",
   "metadata": {},
   "outputs": [],
   "source": []
  }
 ],
 "metadata": {
  "colab": {
   "provenance": []
  },
  "kernelspec": {
   "display_name": "Python 3 (ipykernel)",
   "language": "python",
   "name": "python3"
  },
  "language_info": {
   "codemirror_mode": {
    "name": "ipython",
    "version": 3
   },
   "file_extension": ".py",
   "mimetype": "text/x-python",
   "name": "python",
   "nbconvert_exporter": "python",
   "pygments_lexer": "ipython3",
   "version": "3.12.3"
  }
 },
 "nbformat": 4,
 "nbformat_minor": 5
}
